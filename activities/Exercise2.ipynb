{
 "cells": [
  {
   "cell_type": "code",
   "execution_count": 3,
   "id": "2c421424-2be6-4fd5-8807-ecb2d28509a6",
   "metadata": {},
   "outputs": [
    {
     "name": "stdout",
     "output_type": "stream",
     "text": [
      "This is really fun\n"
     ]
    }
   ],
   "source": [
    "##Question 2.1 \n",
    "\n",
    "myCharacter =\"This is really fun\"\n",
    "print(myCharacter)\n"
   ]
  },
  {
   "cell_type": "code",
   "execution_count": 5,
   "id": "79fcba54-ff89-40d9-9862-b6a8fd25fd10",
   "metadata": {},
   "outputs": [
    {
     "name": "stdout",
     "output_type": "stream",
     "text": [
      "list[1]\n"
     ]
    }
   ],
   "source": [
    "#Exercise 2.2\n",
    "First_list =[3,4,5]\n",
    "print(list[1])\n"
   ]
  },
  {
   "cell_type": "code",
   "execution_count": 9,
   "id": "cabdc346-4749-4184-9208-a723ef20b430",
   "metadata": {},
   "outputs": [
    {
     "name": "stdout",
     "output_type": "stream",
     "text": [
      "third\n"
     ]
    }
   ],
   "source": [
    "mylist =[]\n",
    "#mylist.append('first)\n",
    "mylist +=['second', 'third']\n",
    "print(mylist[1])\n"
   ]
  },
  {
   "cell_type": "code",
   "execution_count": 30,
   "id": "ae686904-08fb-4926-95f5-e9f8f7c64b89",
   "metadata": {},
   "outputs": [
    {
     "ename": "AttributeError",
     "evalue": "'tuple' object has no attribute 'append'",
     "output_type": "error",
     "traceback": [
      "\u001b[1;31m---------------------------------------------------------------------------\u001b[0m",
      "\u001b[1;31mAttributeError\u001b[0m                            Traceback (most recent call last)",
      "Cell \u001b[1;32mIn[30], line 5\u001b[0m\n\u001b[0;32m      3\u001b[0m tuples \u001b[38;5;241m=\u001b[39m(\u001b[38;5;241m1\u001b[39m,\u001b[38;5;241m2\u001b[39m,\u001b[38;5;241m3\u001b[39m)\n\u001b[0;32m      4\u001b[0m tuples \u001b[38;5;241m=\u001b[39m \u001b[38;5;28mtuple\u001b[39m( [\u001b[38;5;241m1\u001b[39m,\u001b[38;5;241m2\u001b[39m,\u001b[38;5;241m3\u001b[39m])\n\u001b[1;32m----> 5\u001b[0m \u001b[43mtuples\u001b[49m\u001b[38;5;241;43m.\u001b[39;49m\u001b[43mappend\u001b[49m(\u001b[38;5;241m4\u001b[39m)\n",
      "\u001b[1;31mAttributeError\u001b[0m: 'tuple' object has no attribute 'append'"
     ]
    }
   ],
   "source": [
    "#question 3 \n",
    "tuples= 1,2,3\n",
    "tuples =(1,2,3)\n",
    "tuples = tuple( [1,2,3])\n",
    "tuples.append(4)\n",
    "\n"
   ]
  },
  {
   "cell_type": "code",
   "execution_count": 35,
   "id": "ff696b4a-d67b-422e-b557-750dcf8dd8bb",
   "metadata": {},
   "outputs": [
    {
     "data": {
      "text/plain": [
       "False"
      ]
     },
     "execution_count": 35,
     "metadata": {},
     "output_type": "execute_result"
    }
   ],
   "source": [
    "#Question 2.4 \n",
    "\n",
    "\n",
    "Test =\"python\"\n",
    "Mylist ={'Hi', 'Joy', 'funny'}\n",
    "Test in Mylist\n",
    "\n"
   ]
  },
  {
   "cell_type": "code",
   "execution_count": 38,
   "id": "69fcbbd5-1d88-4390-b68b-7a18d012013f",
   "metadata": {},
   "outputs": [
    {
     "name": "stdout",
     "output_type": "stream",
     "text": [
      "Hi[nana]= 15\n"
     ]
    }
   ],
   "source": [
    "#Question 2.5 \n",
    "\n",
    "Hi = {\n",
    "    'nana' :   15,\n",
    "    'diddi' :  22, \n",
    "    'hamishe' : 99 }\n",
    "\n",
    "print('Hi[nana]=', Hi.get('nana'))"
   ]
  },
  {
   "cell_type": "code",
   "execution_count": 46,
   "id": "f6bab613-cb52-4817-bca4-38ee7515bbcf",
   "metadata": {},
   "outputs": [
    {
     "data": {
      "text/plain": [
       "{'brown', 'dogs', 'fox', 'jumped', 'lazy', 'ocer', 'quick', 'the'}"
      ]
     },
     "execution_count": 46,
     "metadata": {},
     "output_type": "execute_result"
    }
   ],
   "source": [
    "#Question 2.6 \n",
    "\n",
    "stringOrg=\"The quick brown fox jumped ocer the lazy dogs.\"\n",
    "string1 = stringOrg.replace('.', '')\n",
    "string1\n",
    "string2 =string1.lower()\n",
    "string3 = string2.split()\n",
    "setup=set(string3)\n",
    "#tryme1 = set(tryme3)\n",
    "\n",
    "string2\n",
    "string3\n",
    "setup"
   ]
  },
  {
   "cell_type": "code",
   "execution_count": 47,
   "id": "277d1f92-5b7a-4efe-9339-0d7338373b8e",
   "metadata": {},
   "outputs": [
    {
     "data": {
      "text/plain": [
       "['brown', 'dogs', 'fox', 'jumped', 'lazy', 'ocer', 'quick', 'the']"
      ]
     },
     "execution_count": 47,
     "metadata": {},
     "output_type": "execute_result"
    }
   ],
   "source": [
    "#Question 2.7 \n",
    "\n",
    "sorted(set(stringOrg.replace('.', '').lower().split()))"
   ]
  },
  {
   "cell_type": "code",
   "execution_count": null,
   "id": "71f13189-86fb-4d74-ba02-0b7c2e30dfbe",
   "metadata": {},
   "outputs": [],
   "source": [
    "len(list1) == len(\n",
    "\n",
    "    "
   ]
  },
  {
   "cell_type": "code",
   "execution_count": 23,
   "id": "f8e4908b-9a50-4f23-95f8-88d4dab428b9",
   "metadata": {},
   "outputs": [
    {
     "name": "stdout",
     "output_type": "stream",
     "text": [
      "epoch 8, mode haha , loss 0.9998\n"
     ]
    }
   ],
   "source": [
    "#Question 2.8 \n",
    "\n",
    "epoch = 8\n",
    "mode = \"haha\"\n",
    "loss = 0.9998\n",
    "\n",
    "print(f\"epoch {epoch}, mode {mode} , loss {loss}\")"
   ]
  },
  {
   "cell_type": "code",
   "execution_count": 52,
   "id": "b7313a17-1351-410e-a0c3-56195b0dcac8",
   "metadata": {},
   "outputs": [
    {
     "name": "stdout",
     "output_type": "stream",
     "text": [
      "0\n"
     ]
    },
    {
     "data": {
      "text/plain": [
       "0.0"
      ]
     },
     "execution_count": 52,
     "metadata": {},
     "output_type": "execute_result"
    }
   ],
   "source": [
    "#Question 2.9 \n",
    "\n",
    "fval  =0.1123\n",
    "fval2 = 2.89098\n",
    "val   = int( fval// fval2)\n",
    "print(val)\n",
    "fval//fval2"
   ]
  },
  {
   "cell_type": "code",
   "execution_count": 25,
   "id": "4c00f841-4167-46b4-8c98-85c2bcc733e1",
   "metadata": {},
   "outputs": [
    {
     "data": {
      "text/plain": [
       "False"
      ]
     },
     "execution_count": 25,
     "metadata": {},
     "output_type": "execute_result"
    }
   ],
   "source": [
    "a= 0.15 + 0.15\n",
    "b = 0.1 + 0.2 \n",
    "a==b"
   ]
  },
  {
   "cell_type": "code",
   "execution_count": 26,
   "id": "7d742e3b-a3cb-480a-b0f6-9c154b81dec6",
   "metadata": {},
   "outputs": [
    {
     "name": "stdout",
     "output_type": "stream",
     "text": [
      "0.3 0.30000000000000004\n"
     ]
    }
   ],
   "source": [
    "print(a, b)"
   ]
  },
  {
   "cell_type": "code",
   "execution_count": null,
   "id": "ba13491e-1d0a-4922-86ac-222414146a8e",
   "metadata": {},
   "outputs": [],
   "source": []
  }
 ],
 "metadata": {
  "kernelspec": {
   "display_name": "Python 3 (ipykernel)",
   "language": "python",
   "name": "python3"
  },
  "language_info": {
   "codemirror_mode": {
    "name": "ipython",
    "version": 3
   },
   "file_extension": ".py",
   "mimetype": "text/x-python",
   "name": "python",
   "nbconvert_exporter": "python",
   "pygments_lexer": "ipython3",
   "version": "3.12.5"
  }
 },
 "nbformat": 4,
 "nbformat_minor": 5
}
